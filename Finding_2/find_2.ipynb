{
 "cells": [
  {
   "cell_type": "code",
   "execution_count": null,
   "metadata": {},
   "outputs": [
    {
     "name": "stderr",
     "output_type": "stream",
     "text": [
      "2025-04-01 13:13:26.566 Python[65806:2076486] WARNING: Secure coding is not enabled for restorable state! Enable secure coding by implementing NSApplicationDelegate.applicationSupportsSecureRestorableState: and returning YES.\n"
     ]
    },
    {
     "data": {
      "text/plain": [
       "True"
      ]
     },
     "execution_count": 1,
     "metadata": {},
     "output_type": "execute_result"
    },
    {
     "ename": "",
     "evalue": "",
     "output_type": "error",
     "traceback": [
      "\u001b[1;31mThe Kernel crashed while executing code in the current cell or a previous cell. \n",
      "\u001b[1;31mPlease review the code in the cell(s) to identify a possible cause of the failure. \n",
      "\u001b[1;31mClick <a href='https://aka.ms/vscodeJupyterKernelCrash'>here</a> for more info. \n",
      "\u001b[1;31mView Jupyter <a href='command:jupyter.viewOutput'>log</a> for further details."
     ]
    }
   ],
   "source": [
    "import cv2\n",
    "import numpy as np\n",
    "import os\n",
    "\n",
    "img = cv2.imread(\"image.png\")\n",
    "\n",
    "img_gray = cv2.cvtColor(img, cv2.COLOR_BGR2GRAY)\n",
    "\n",
    "darkened_img = cv2.convertScaleAbs(img, alpha=0.5, beta=0)\n",
    "\n",
    "template_dir = \"items\"\n",
    "templates = [os.path.join(template_dir, f) for f in os.listdir(template_dir) if f.endswith('.png')]\n",
    "\n",
    "threshold = 0.6\n",
    "\n",
    "for template_path in templates:\n",
    "    template = cv2.imread(template_path, 0) \n",
    "    best_match_val = -1\n",
    "    best_match_loc = None\n",
    "    best_match_scale = None\n",
    "    best_w, best_h = None, None\n",
    "\n",
    "    for scale in np.linspace(0.5, 1.5, 20):\n",
    "        scaled_template = cv2.resize(template, None, fx=scale, fy=scale, interpolation=cv2.INTER_LINEAR)\n",
    "        w, h = scaled_template.shape[::-1]  \n",
    "\n",
    "        res = cv2.matchTemplate(img_gray, scaled_template, cv2.TM_CCOEFF_NORMED)\n",
    "        min_val, max_val, min_loc, max_loc = cv2.minMaxLoc(res)\n",
    "\n",
    "        if max_val > best_match_val:\n",
    "            best_match_val = max_val\n",
    "            best_match_loc = max_loc\n",
    "            best_match_scale = scale\n",
    "            best_w, best_h = w, h\n",
    "\n",
    "    if best_match_val >= threshold:\n",
    "        top_left = best_match_loc\n",
    "        bottom_right = (top_left[0] + best_w, top_left[1] + best_h)\n",
    "\n",
    "        roi = img[top_left[1]:bottom_right[1], top_left[0]:bottom_right[0]]\n",
    "        darkened_img[top_left[1]:bottom_right[1], top_left[0]:bottom_right[0]] = roi\n",
    "\n",
    "        cv2.rectangle(darkened_img, top_left, bottom_right, (0, 255, 0), 2)\n",
    "\n",
    "cv2.imshow('Detected Objects', darkened_img)\n",
    "cv2.waitKey(0)\n",
    "cv2.destroyAllWindows()\n",
    "cv2.imwrite('result.jpg', darkened_img)"
   ]
  }
 ],
 "metadata": {
  "kernelspec": {
   "display_name": "Python 3",
   "language": "python",
   "name": "python3"
  },
  "language_info": {
   "codemirror_mode": {
    "name": "ipython",
    "version": 3
   },
   "file_extension": ".py",
   "mimetype": "text/x-python",
   "name": "python",
   "nbconvert_exporter": "python",
   "pygments_lexer": "ipython3",
   "version": "3.11.5"
  }
 },
 "nbformat": 4,
 "nbformat_minor": 2
}
